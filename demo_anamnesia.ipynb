{
 "cells": [
  {
   "cell_type": "markdown",
   "metadata": {},
   "source": [
    "# Démonstration du projet 📝AnamnesIA🤖  \n",
    "### *Simplifier et automatiser la documentation médicale en quelques clics*"
   ]
  },
  {
   "cell_type": "markdown",
   "metadata": {},
   "source": [
    "## Création d'un environnement virtuel et installation des dépendances\n",
    "\n",
    "**Remarque :** Adaptez les commandes ci-dessous en fonction de votre système d'exploitation si vous n'utilisez pas Windows."
   ]
  },
  {
   "cell_type": "code",
   "execution_count": null,
   "metadata": {},
   "outputs": [],
   "source": [
    "!python -m venv venv\n",
    "!\"venv/Scripts/activate\" && pip install -r requirements.txt"
   ]
  },
  {
   "cell_type": "markdown",
   "metadata": {},
   "source": [
    "Avant de commencer, assurez-vous d'avoir :\n",
    "1. Un compte AWS actif et le CLI AWS configuré avec vos identifiants :\n",
    "    - Access Key ID\n",
    "    - Secret Access Key\n",
    "\n",
    "    Utilisez la commande `aws configure` pour configurer le CLI.\n",
    "\n",
    "2. Un compte OpenAI actif et la clé API OpenAI configurée :\n",
    "    - Ajoutez votre clé API OpenAI dans les variables d'environnement sous le nom `OPENAI_API_KEY`. Exemple : `export OPENAI_API_KEY=\"votre_cle_api_openai\"`"
   ]
  },
  {
   "cell_type": "markdown",
   "metadata": {},
   "source": [
    "## Exemple d'Utilisation\n",
    "### Importation des modules nécessaires"
   ]
  },
  {
   "cell_type": "code",
   "execution_count": 1,
   "metadata": {},
   "outputs": [],
   "source": [
    "from src.utils import record_audio, upload_to_s3, start_transcription, get_transcription_uri, get_transcription, format_transcription, generate_anamnesis_data\n",
    "import time"
   ]
  },
  {
   "cell_type": "markdown",
   "metadata": {},
   "source": [
    "### Enregistrement de la conversation\n",
    "\n",
    "La fonction `record_audio()` permet d'enregistrer une conversation jusqu'à ce qu'elle soit interrompue. Une fois l'enregistrement terminé, le fichier audio sera sauvegardé à l'emplacement spécifié dans le path retourné."
   ]
  },
  {
   "cell_type": "code",
   "execution_count": 2,
   "metadata": {},
   "outputs": [
    {
     "name": "stdout",
     "output_type": "stream",
     "text": [
      "Recording... Press 'q' to stop.\n",
      "Recording saved as audio_20250405_142459.wav\n"
     ]
    }
   ],
   "source": [
    "audio_path = record_audio()"
   ]
  },
  {
   "cell_type": "markdown",
   "metadata": {},
   "source": [
    "### Téléchargement du fichier audio sur S3\n",
    "\n",
    "La fonction `upload_to_s3()` permet de transférer un fichier audio local vers un bucket Amazon S3. Cela est nécessaire pour que le fichier puisse être utilisé par les services AWS, comme la transcription.\n",
    "\n",
    "#### Paramètres :\n",
    "- `file_path` (str) : Chemin du fichier audio local à télécharger.\n",
    "- `bucket_name` (str) : Nom du bucket S3 où le fichier sera stocké. S'il n'existe pas il sera créé.\n",
    "\n",
    "#### 🛠️ Au Boulot ! :"
   ]
  },
  {
   "cell_type": "code",
   "execution_count": 3,
   "metadata": {},
   "outputs": [
    {
     "name": "stdout",
     "output_type": "stream",
     "text": [
      "Fichier data/conversation2.wav téléchargé dans le bucket S3 anamnesia-audio-files-25 sous audio/conversation2.wav\n"
     ]
    }
   ],
   "source": [
    "file_path = \"data/conversation2.wav\"  # Utilisation de l'audio d'exemple au lieu de celui enregistré\n",
    "bucket_name = \"anamnesia-audio-files-25\"\n",
    "s3_file_path = upload_to_s3(file_path, bucket_name)"
   ]
  },
  {
   "cell_type": "markdown",
   "metadata": {},
   "source": [
    "### Obtenir la transcription à partir du fichier S3\n",
    "\n",
    "Cette étape utilise les fonctions `start_transcription` et `get_transcription` pour démarrer un travail de transcription sur AWS Transcribe et récupérer le résultat.\n",
    "\n",
    "#### Étapes :\n",
    "1. **Démarrer la transcription** : La fonction `start_transcription()` lance un travail de transcription sur AWS Transcribe en utilisant le fichier audio stocké dans S3.\n",
    "2. **Récupérer la transcription** : La fonction `get_transcription()` attend la fin du travail de transcription et retourne les résultats.\n",
    "\n",
    "#### Exemple de code :"
   ]
  },
  {
   "cell_type": "code",
   "execution_count": 4,
   "metadata": {},
   "outputs": [
    {
     "name": "stdout",
     "output_type": "stream",
     "text": [
      "Transcription démarrée.\n",
      "Transcription démarrée avec le nom de job : transcription-job-1743855904.\n"
     ]
    }
   ],
   "source": [
    "transcription_job_name = f\"transcription-job-{int(time.time())}\"\n",
    "\n",
    "# Étape 1 : Démarrer la transcription\n",
    "start_transcription(transcription_job_name, bucket_name, s3_file_path)\n",
    "print(f\"Transcription démarrée avec le nom de job : {transcription_job_name}.\")"
   ]
  },
  {
   "cell_type": "code",
   "execution_count": 5,
   "metadata": {},
   "outputs": [
    {
     "name": "stdout",
     "output_type": "stream",
     "text": [
      "En attente de la transcription...\n",
      "En attente de la transcription...\n",
      "En attente de la transcription...\n",
      "En attente de la transcription...\n",
      "En attente de la transcription...\n",
      "Transcription terminée.\n",
      "Transcription récupérée coorrectement.\n"
     ]
    }
   ],
   "source": [
    "# Étape 2 : Récupérer la transcription\n",
    "transcription_uri = get_transcription_uri(transcription_job_name)\n",
    "transcription = get_transcription(transcription_uri)\n",
    "\n",
    "# Étape 3 : Formater la transcription\n",
    "if transcription:\n",
    "    transcription_text = format_transcription(transcription)\n",
    "    print(\"Transcription récupérée correctement.\")\n",
    "else:\n",
    "    print(\"La transcription n'est pas encore disponible.\")"
   ]
  },
  {
   "cell_type": "markdown",
   "metadata": {},
   "source": [
    "Voici la transcription formattée:"
   ]
  },
  {
   "cell_type": "code",
   "execution_count": 6,
   "metadata": {},
   "outputs": [
    {
     "name": "stdout",
     "output_type": "stream",
     "text": [
      "[Début de la transcription]\n",
      "Kiné : bonjour comment puis-je vous aider aujourd'hui\n",
      "Patient : Bonjour j'ai une douleur au niveau du genou droit Cela a commencé après un entraînement de foot il y a une semaine C'est surtout quand je monte les escaliers que ça fait\n",
      "Kiné : mal D'accord pouvez-vous me décrire la douleur un peu plus précisément c'est plutôt aigu ou lancinante\n",
      "Patient : C'est plutôt aigu localisé à l'avant du genou C'est assez douloureux surtout lorsque je fais des mouvements de flexion\n",
      "Kiné : Je vois et avez-vous remarqué d'autres symptômes comme un gonflement ou des craquements\n",
      "Patient : oui il y a un léger gonflement mais je ne remarque pas de craquement Cela a tendance à se calmer quand je repose mon genou Très\n",
      "Kiné : bien Depuis combien de temps avez-vous ce gonflement\n",
      "Patient : Cela a commencé en même temps que la douleur il y a environ une semaine\n",
      "Kiné : Est-ce que des positions ou des mouvements aggravent la douleur\n",
      "Patient : Oui quand je suis debout longtemps ou que je fais du sport ça devient plus intense\n",
      "Kiné : Très bien Et quel est votre niveau d'activité physique en général\n",
      "Patient : je suis assez actif je joue au foot régulièrement et je vais à la salle de sport deux à trois fois par semaine\n",
      "Kiné : D'accord et votre travail est ce qu'il exige de rester longtemps dans une position particulière\n",
      "Patient : Non je travaille en tant que développeur informatique donc je suis assis devant un écran pendant de longues heures Je\n",
      "Kiné : comprends Vous avez des antécédents de problèmes articulaires ou musculaires\n",
      "Patient : non à part une ancienne entorse à la cheville il y a quelques années rien d'autre\n",
      "Kiné : Merci pour ces informations Je vais examiner votre genou et déterminer le traitement adapté En attendant il serait bon de limiter les efforts physiques intenses\n",
      "[Fin de la transcription]\n"
     ]
    }
   ],
   "source": [
    "print(transcription_text)"
   ]
  },
  {
   "cell_type": "markdown",
   "metadata": {},
   "source": [
    "### Transformation de la Conversation Transcrite en Texte Structuré\n",
    "\n",
    "Dans cette étape, nous utilisons la fonction `generate_anamnesis_data(transcription_text)` pour transformer le texte brut de la transcription en un dictionnaire Python structuré au format JSON. Ce format est prêt à être intégré dans des systèmes de gestion de données médicales.\n",
    "\n",
    "#### Utilisation d'un Template Personnalisable\n",
    "\n",
    "La fonction utilise un template situé dans le fichier `data/template.txt`. Ce template contient la structure et les instructions nécessaires pour générer les données d'anamnèse. Vous pouvez modifier ce fichier pour adapter la sortie aux besoins spécifiques de votre projet."
   ]
  },
  {
   "cell_type": "code",
   "execution_count": 7,
   "metadata": {},
   "outputs": [
    {
     "name": "stdout",
     "output_type": "stream",
     "text": [
      "Template chargé depuis data/template.txt\n",
      "Motif de consultation: Douleur aiguë au genou droit après entraînement de foot, localisée à l'avant du genou\n",
      "Signes et symptômes: Douleur intense lors des mouvements de flexion, gonflement léger apparu il y a une semaine, exacerbation de la douleur en position debout prolongée ou durant l'activité sportive\n",
      "Mode de vie: Actif, pratique régulière du football et salle de sport, travail sédentaire en tant que développeur informatique\n",
      "Antécédents médicaux: Ancienne entorse à la cheville il y a quelques années\n"
     ]
    }
   ],
   "source": [
    "structured_data = generate_anamnesis_data(transcription=transcription_text)\n",
    "for key, value in structured_data.items():\n",
    "    print(f\"{key}: {value}\")"
   ]
  },
  {
   "cell_type": "markdown",
   "metadata": {},
   "source": [
    "🎉 Voilà ! Les données structurées sont prêtes 🚀\n",
    "Les informations issues de la transcription ont été transformées en un format structuré, prêt à être intégré dans votre solution médicale ou tout autre système de gestion de données."
   ]
  }
 ],
 "metadata": {
  "kernelspec": {
   "display_name": "venv",
   "language": "python",
   "name": "python3"
  },
  "language_info": {
   "codemirror_mode": {
    "name": "ipython",
    "version": 3
   },
   "file_extension": ".py",
   "mimetype": "text/x-python",
   "name": "python",
   "nbconvert_exporter": "python",
   "pygments_lexer": "ipython3",
   "version": "3.11.5"
  }
 },
 "nbformat": 4,
 "nbformat_minor": 2
}
